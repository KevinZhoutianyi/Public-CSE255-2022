{
 "cells": [
  {
   "cell_type": "code",
   "execution_count": 1,
   "id": "074e383e",
   "metadata": {},
   "outputs": [],
   "source": [
    "from lib.KDTreeEncoding import *\n",
    "\n",
    "import xgboost as xgb\n",
    "from lib.XGBHelper import *\n",
    "from lib.XGBoost_params import *\n",
    "from lib.score_analysis import *\n",
    "\n",
    "from lib.logger import logger\n",
    "\n",
    "from sklearn.model_selection import train_test_split\n",
    "import matplotlib.pyplot as plt\n",
    "import numpy as np\n",
    "from numpy import load\n",
    "from glob import glob\n",
    "import pandas as pd\n",
    "import pickle as pkl\n",
    "\n",
    "poverty_dir = '/datasets/cs255-sp22-a00-public/poverty/'\n",
    "image_dir=poverty_dir+'anon_images/'"
   ]
  },
  {
   "cell_type": "code",
   "execution_count": 2,
   "id": "5cfc7efb",
   "metadata": {},
   "outputs": [],
   "source": [
    "import pickle as pkl\n",
    "pkl_file='data/DumpNoSplit.pk'\n",
    "D=pkl.load(open(pkl_file,'rb'))\n",
    "\n",
    "for k in D:\n",
    "    globals()[k]=D[k]\n",
    "scaling_mean=mean\n",
    "scaling_std=std\n",
    "\n",
    "bst_list=[x['bst'] for x in styled_logs[1]['log']]"
   ]
  },
  {
   "cell_type": "code",
   "execution_count": 3,
   "id": "afd00520",
   "metadata": {},
   "outputs": [
    {
     "name": "stdout",
     "output_type": "stream",
     "text": [
      "mean [0.37125853 0.25611726 0.4765992  ... 0.37080099 0.46502017 0.35390972]\n",
      "[0. 0. 0. ... 0. 0. 0.]\n",
      "[ 0. -1. -1. ... -1. -1.  0.]\n",
      "[ 1. -1. -1. ... -1. -1.  1.]\n",
      "[ 1. -1. -1. ... -1. -1.  0.]\n",
      "\n",
      "\n",
      "------------------------------------------------------------\n",
      "data/results_country.csv\n",
      "mean [1.18766821 0.81903897 0.55335873 ... 0.23423295 0.32743389 0.26219404]\n",
      "[0. 0. 0. ... 0. 0. 0.]\n",
      "[ 0. -1. -1. ... -1. -1. -1.]\n",
      "[ 1. -1. -1. ... -1. -1. -1.]\n",
      "[ 0. -1. -1. ...  0. -1. -1.]\n",
      "\n",
      "\n",
      "------------------------------------------------------------\n",
      "data/results.csv\n"
     ]
    }
   ],
   "source": [
    "folds=[{'in':'country_test_reduct.csv','out':'results_country.csv'},\n",
    "      {'in':'random_test_reduct.csv','out':'results.csv'}]\n",
    "\n",
    "for fold_i in range(len(folds)):\n",
    "    fold=folds[fold_i]\n",
    "\n",
    "    test_csv=f'../public_tables/{fold[\"in\"]}'\n",
    "    test=pd.read_csv(test_csv,index_col=0)\n",
    "#     test = test[:100]\n",
    "    out=pd.DataFrame()\n",
    "    out['filename'] = test['filename']\n",
    "    out['urban']=test['urban']\n",
    "    out['country']=test['country']\n",
    "    out['pred_wo_abstention']=0\n",
    "    out.set_index('filename', inplace=True)\n",
    "    \n",
    "    Enc_data=encoded_dataset(image_dir,out,tree,label_col='pred_wo_abstention')\n",
    "\n",
    "\n",
    "    data=to_DMatrix(Enc_data.data)\n",
    "    Preds=zeros([Enc_data.data.shape[0],len(bst_list)])\n",
    "    for i in range(len(bst_list)):\n",
    "        Preds[:,i]=bst_list[i].predict(data,output_margin=True,ntree_limit=bst_list[i].best_ntree_limit)\n",
    "#     Preds=(Preds-scaling_mean)/scaling_std # apply overall score scaling\n",
    "    _mean=np.mean(Preds,axis=1)\n",
    "    print('mean',_mean[out['urban']==True])\n",
    "    _std=np.std(Preds,axis=1)\n",
    "    pred_wo_abstention = np.zeros((_mean.shape))\n",
    "    print(pred_wo_abstention)\n",
    "    pred_wo_abstention[out['urban']==True]=(2*(_mean[out['urban']==True]>1.3))-1\n",
    "    print(pred_wo_abstention)\n",
    "    pred_wo_abstention[out['urban']==False]=(2*(_mean[out['urban']==False]>(-0.5)))-1\n",
    "    print(pred_wo_abstention)\n",
    "    pred_with_abstention=copy(pred_wo_abstention)\n",
    "    pred_with_abstention[_std>abs(_mean)]=0\n",
    "    print(pred_with_abstention)\n",
    "\n",
    "    out['pred_with_abstention'] = pred_with_abstention\n",
    "    out['pred_wo_abstention'] = pred_wo_abstention\n",
    "    out['pred_with_abstention'] = out['pred_with_abstention'].astype(int)\n",
    "    out['pred_wo_abstention'] = out['pred_wo_abstention'].astype(int)\n",
    "    outFile=f'data/{fold[\"out\"]}'\n",
    "    out.to_csv(outFile)\n",
    "    print('\\n\\n'+'-'*60)\n",
    "    print(outFile)\n",
    "\n",
    "\n"
   ]
  },
  {
   "cell_type": "code",
   "execution_count": 4,
   "id": "360cf18d",
   "metadata": {},
   "outputs": [
    {
     "data": {
      "text/plain": [
       "urban                    bool\n",
       "country                 int64\n",
       "pred_wo_abstention      int64\n",
       "pred_with_abstention    int64\n",
       "dtype: object"
      ]
     },
     "execution_count": 4,
     "metadata": {},
     "output_type": "execute_result"
    }
   ],
   "source": [
    "out.dtypes"
   ]
  },
  {
   "cell_type": "code",
   "execution_count": 9,
   "id": "41c4484e",
   "metadata": {},
   "outputs": [
    {
     "data": {
      "text/plain": [
       "-0.799342131614685"
      ]
     },
     "execution_count": 9,
     "metadata": {},
     "output_type": "execute_result"
    }
   ],
   "source": [
    "_mean[out['urban']==False].min()"
   ]
  },
  {
   "cell_type": "code",
   "execution_count": 8,
   "id": "27b83f66",
   "metadata": {},
   "outputs": [
    {
     "data": {
      "text/plain": [
       "0.3934245919279948"
      ]
     },
     "execution_count": 8,
     "metadata": {},
     "output_type": "execute_result"
    }
   ],
   "source": [
    "_mean[out['urban']==True].mean()"
   ]
  },
  {
   "cell_type": "code",
   "execution_count": null,
   "id": "e28b17a8",
   "metadata": {},
   "outputs": [],
   "source": []
  }
 ],
 "metadata": {
  "kernelspec": {
   "display_name": "Python 3",
   "language": "python",
   "name": "python3"
  },
  "language_info": {
   "codemirror_mode": {
    "name": "ipython",
    "version": 3
   },
   "file_extension": ".py",
   "mimetype": "text/x-python",
   "name": "python",
   "nbconvert_exporter": "python",
   "pygments_lexer": "ipython3",
   "version": "3.6.13"
  }
 },
 "nbformat": 4,
 "nbformat_minor": 5
}
